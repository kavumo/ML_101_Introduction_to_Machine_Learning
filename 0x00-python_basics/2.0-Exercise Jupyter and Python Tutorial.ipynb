{
 "cells": [
  {
   "cell_type": "markdown",
   "metadata": {},
   "source": [
    "Ensure you are using Python 3.0 and above\n",
    "\n",
    "Make sure you fill in any place that says `YOUR CODE HERE` or \"YOUR ANSWER HERE\". Delete the 'raise NotImplementedError()' once you write your code there"
   ]
  },
  {
   "cell_type": "code",
   "execution_count": 2,
   "metadata": {
    "deletable": false,
    "editable": false,
    "nbgrader": {
     "checksum": "97c2d5b538162e1e7b7d50e0c9917ff5",
     "grade": false,
     "grade_id": "cell-2db564b1f4bb5965",
     "locked": true,
     "schema_version": 1,
     "solution": false
    }
   },
   "outputs": [],
   "source": [
    "import IPython\n",
    "assert IPython.version_info[0] >= 3, \"Your version of IPython is too old, please update it.\""
   ]
  },
  {
   "cell_type": "markdown",
   "metadata": {},
   "source": [
    "### Complete the following Python exercises and submit the notebook on class folder"
   ]
  },
  {
   "cell_type": "code",
   "execution_count": 3,
   "metadata": {
    "deletable": false,
    "editable": false,
    "nbgrader": {
     "checksum": "c5b1619e75145b28250ff6f0bca6508b",
     "grade": false,
     "grade_id": "cell-357d7836b104559b",
     "locked": true,
     "schema_version": 1,
     "solution": false
    }
   },
   "outputs": [
    {
     "ename": "ModuleNotFoundError",
     "evalue": "No module named 'nose'",
     "output_type": "error",
     "traceback": [
      "\u001b[0;31m---------------------------------------------------------------------------\u001b[0m",
      "\u001b[0;31mModuleNotFoundError\u001b[0m                       Traceback (most recent call last)",
      "Cell \u001b[0;32mIn[3], line 3\u001b[0m\n\u001b[1;32m      1\u001b[0m \u001b[38;5;66;03m# Imports\u001b[39;00m\n\u001b[1;32m      2\u001b[0m \u001b[38;5;28;01mimport\u001b[39;00m \u001b[38;5;21;01mnumpy\u001b[39;00m \u001b[38;5;28;01mas\u001b[39;00m \u001b[38;5;21;01mnp\u001b[39;00m\n\u001b[0;32m----> 3\u001b[0m \u001b[38;5;28;01mfrom\u001b[39;00m \u001b[38;5;21;01mnose\u001b[39;00m\u001b[38;5;21;01m.\u001b[39;00m\u001b[38;5;21;01mtools\u001b[39;00m \u001b[38;5;28;01mimport\u001b[39;00m \u001b[38;5;241m*\u001b[39m\n\u001b[1;32m      4\u001b[0m \u001b[38;5;28;01mimport\u001b[39;00m \u001b[38;5;21;01mIPython\u001b[39;00m\n\u001b[1;32m      5\u001b[0m \u001b[38;5;28;01massert\u001b[39;00m IPython\u001b[38;5;241m.\u001b[39mversion_info[\u001b[38;5;241m0\u001b[39m] \u001b[38;5;241m>\u001b[39m\u001b[38;5;241m=\u001b[39m \u001b[38;5;241m3\u001b[39m, \u001b[38;5;124m\"\u001b[39m\u001b[38;5;124mYour version of IPython is too old, please update it.\u001b[39m\u001b[38;5;124m\"\u001b[39m\n",
      "\u001b[0;31mModuleNotFoundError\u001b[0m: No module named 'nose'"
     ]
    }
   ],
   "source": [
    "# Imports\n",
    "import numpy as np\n",
    "from nose.tools import *\n",
    "import IPython\n",
    "assert IPython.version_info[0] >= 3, \"Your version of IPython is too old, please update it.\""
   ]
  },
  {
   "cell_type": "markdown",
   "metadata": {},
   "source": [
    "### Part A - Python stuff"
   ]
  },
  {
   "cell_type": "markdown",
   "metadata": {},
   "source": [
    "#### Question 1\n",
    "Write a function that adds two numbers together. If the numbers result in decimals, make sure that they are rounded off to 2 significant decimals, i.e. 23.1234 + 12.4321 = 35.56"
   ]
  },
  {
   "cell_type": "code",
   "execution_count": null,
   "metadata": {
    "deletable": false,
    "nbgrader": {
     "checksum": "f176d7b717e0826ae367803444c80728",
     "grade": false,
     "grade_id": "cell-cb3cad34e6f02386",
     "locked": false,
     "schema_version": 1,
     "solution": true
    }
   },
   "outputs": [],
   "source": [
    "# warm up\n",
    "def add_two_numbers(x,y):\n",
    "    return x+y"
   ]
  },
  {
   "cell_type": "code",
   "execution_count": 1,
   "metadata": {
    "deletable": false,
    "editable": false,
    "nbgrader": {
     "checksum": "acb27db3f8043df2f54e21f9f81b6c6d",
     "grade": true,
     "grade_id": "cell-38e9dccd85269c70",
     "locked": true,
     "points": 3,
     "schema_version": 1,
     "solution": false
    }
   },
   "outputs": [
    {
     "ename": "NameError",
     "evalue": "name 'assert_equal' is not defined",
     "output_type": "error",
     "traceback": [
      "\u001b[0;31m---------------------------------------------------------------------------\u001b[0m",
      "\u001b[0;31mNameError\u001b[0m                                 Traceback (most recent call last)",
      "Cell \u001b[0;32mIn[1], line 2\u001b[0m\n\u001b[1;32m      1\u001b[0m \u001b[38;5;66;03m# Run tests\u001b[39;00m\n\u001b[0;32m----> 2\u001b[0m \u001b[43massert_equal\u001b[49m(add_two_numbers(\u001b[38;5;241m34.257\u001b[39m, \u001b[38;5;241m42.936\u001b[39m), \u001b[38;5;241m77.19\u001b[39m)\n",
      "\u001b[0;31mNameError\u001b[0m: name 'assert_equal' is not defined"
     ]
    }
   ],
   "source": [
    "# Run tests\n",
    "assert_equal(add_two_numbers(34.257, 42.936), 77.19)"
   ]
  },
  {
   "cell_type": "markdown",
   "metadata": {},
   "source": [
    "#### Question 2\n",
    "Complete this function to provide the cummulative sum of the first N numbers. The numbers should be counted from 1,2,.... Tip: You may want to look at the range function of Python.\n",
    "E.g. function(4) = 1+2+3+4 = 10\n",
    "\n",
    "Add an additional check - if the number N provided is outside an acceptable range, return 0. The acceptable range is 0 - 200 inclusive (i.e. it includes 0 and 200)"
   ]
  },
  {
   "cell_type": "code",
   "execution_count": null,
   "metadata": {
    "deletable": false,
    "nbgrader": {
     "checksum": "331e1a0a44d9630a0db845ac6b47ef3e",
     "grade": false,
     "grade_id": "cell-ddc6a0cd82f6d7db",
     "locked": false,
     "schema_version": 1,
     "solution": true
    }
   },
   "outputs": [],
   "source": [
    "def sum_first_N_numbers(N):\n",
    "    sum = 0;\n",
    "    for i in range(1,N+1):\n",
    "        sum=sum+i\n",
    "    return sum"
   ]
  },
  {
   "cell_type": "code",
   "execution_count": null,
   "metadata": {
    "deletable": false,
    "editable": false,
    "nbgrader": {
     "checksum": "ebc4f7dd6fbcce9868c78647e6d5f34d",
     "grade": true,
     "grade_id": "cell-34d1aba5d7cc55d8",
     "locked": true,
     "points": 2,
     "schema_version": 1,
     "solution": false
    }
   },
   "outputs": [],
   "source": [
    "# Tests 1\n",
    "assert_equal(sum_first_N_numbers(4), 10)"
   ]
  },
  {
   "cell_type": "code",
   "execution_count": null,
   "metadata": {
    "deletable": false,
    "editable": false,
    "nbgrader": {
     "checksum": "68dd61f6c09ee516d5835b0e8069b131",
     "grade": true,
     "grade_id": "cell-93e0ff65d1eab080",
     "locked": true,
     "points": 2,
     "schema_version": 1,
     "solution": false
    }
   },
   "outputs": [],
   "source": [
    "# Tests 2\n",
    "assert_equal(sum_first_N_numbers(0), 0)"
   ]
  },
  {
   "cell_type": "code",
   "execution_count": null,
   "metadata": {
    "deletable": false,
    "editable": false,
    "nbgrader": {
     "checksum": "9e4f1efb206371510de20b8babcda9b4",
     "grade": true,
     "grade_id": "cell-a9ade0586e328717",
     "locked": true,
     "points": 3,
     "schema_version": 1,
     "solution": false
    }
   },
   "outputs": [],
   "source": [
    "# Tests 3\n",
    "assert_equal(sum_first_N_numbers(300), 0)"
   ]
  },
  {
   "cell_type": "markdown",
   "metadata": {},
   "source": [
    "#### Question 3\n",
    "Write a function to calculate the mean of a list of numbers. Numbers should be rounded off to 2 significant decimals if they are decimal numbers\n",
    "\n",
    "E.g. function([2,2,2,2]) = 2"
   ]
  },
  {
   "cell_type": "code",
   "execution_count": 1,
   "metadata": {
    "deletable": false,
    "nbgrader": {
     "checksum": "62e86df1395570e610223e8ca7c36975",
     "grade": false,
     "grade_id": "cell-6a114e8a16020116",
     "locked": false,
     "schema_version": 1,
     "solution": true
    }
   },
   "outputs": [],
   "source": [
    "def get_mean(x):\n",
    "    # Function should get the mean of a list of numbers x\n",
    "    # i.e. if x = [1,2,3], get_mean(x) = 2\n",
    "     # YOUR CODE HERE\n",
    "     raise NotImplementedError()"
   ]
  },
  {
   "cell_type": "code",
   "execution_count": 2,
   "metadata": {
    "deletable": false,
    "editable": false,
    "nbgrader": {
     "checksum": "538e0ae15ae19e99cd1b7384cdcf84b5",
     "grade": true,
     "grade_id": "cell-bb8d92f5fdb244ec",
     "locked": true,
     "points": 2,
     "schema_version": 1,
     "solution": false
    }
   },
   "outputs": [
    {
     "ename": "NameError",
     "evalue": "name 'assert_equal' is not defined",
     "output_type": "error",
     "traceback": [
      "\u001b[0;31m---------------------------------------------------------------------------\u001b[0m",
      "\u001b[0;31mNameError\u001b[0m                                 Traceback (most recent call last)",
      "\u001b[0;32m<ipython-input-2-8ef58e3d5b6f>\u001b[0m in \u001b[0;36m<module>\u001b[0;34m\u001b[0m\n\u001b[1;32m      1\u001b[0m \u001b[0;31m# Tests 1\u001b[0m\u001b[0;34m\u001b[0m\u001b[0;34m\u001b[0m\u001b[0;34m\u001b[0m\u001b[0m\n\u001b[0;32m----> 2\u001b[0;31m \u001b[0massert_equal\u001b[0m\u001b[0;34m(\u001b[0m\u001b[0mget_mean\u001b[0m\u001b[0;34m(\u001b[0m\u001b[0;34m[\u001b[0m\u001b[0;36m2\u001b[0m\u001b[0;34m,\u001b[0m\u001b[0;36m3\u001b[0m\u001b[0;34m,\u001b[0m\u001b[0;36m4\u001b[0m\u001b[0;34m,\u001b[0m\u001b[0;36m5\u001b[0m\u001b[0;34m]\u001b[0m\u001b[0;34m)\u001b[0m\u001b[0;34m,\u001b[0m \u001b[0;36m3.5\u001b[0m\u001b[0;34m)\u001b[0m\u001b[0;34m\u001b[0m\u001b[0;34m\u001b[0m\u001b[0m\n\u001b[0m",
      "\u001b[0;31mNameError\u001b[0m: name 'assert_equal' is not defined"
     ]
    }
   ],
   "source": [
    "# Tests 1\n",
    "assert_equal(get_mean([2,3,4,5]), 3.5)"
   ]
  },
  {
   "cell_type": "markdown",
   "metadata": {},
   "source": [
    "#### Question 4\n",
    "Complete the function to get the power of a number. Ensure that if it is a decimal number it is rounded off to 3 (THREE) decimal places. \n",
    "\n",
    "E.g. function(3,2) = 9"
   ]
  },
  {
   "cell_type": "code",
   "execution_count": null,
   "metadata": {
    "deletable": false,
    "nbgrader": {
     "checksum": "ca0f1f6b1950f16565a99500151249e8",
     "grade": false,
     "grade_id": "cell-0d560c78a3ca2566",
     "locked": false,
     "schema_version": 1,
     "solution": true
    }
   },
   "outputs": [],
   "source": [
    "def get_i_power(x, i):\n",
    "    # Get x to the power i\n",
    "    # E.g. get_i_power(2,3) = 8\n",
    "    # YOUR CODE HERE\n",
    "    raise NotImplementedError()"
   ]
  },
  {
   "cell_type": "code",
   "execution_count": null,
   "metadata": {
    "deletable": false,
    "editable": false,
    "nbgrader": {
     "checksum": "98febda69272474c87f006a2ce156625",
     "grade": true,
     "grade_id": "cell-154da60daea46d99",
     "locked": true,
     "points": 2,
     "schema_version": 1,
     "solution": false
    }
   },
   "outputs": [],
   "source": [
    "# Test 1\n",
    "assert_equal(get_i_power(3,2), 9)"
   ]
  },
  {
   "cell_type": "code",
   "execution_count": null,
   "metadata": {
    "deletable": false,
    "editable": false,
    "nbgrader": {
     "checksum": "0e4fd0bf39412caabac00a4c23f61fed",
     "grade": true,
     "grade_id": "cell-52043c6a51a27e2c",
     "locked": true,
     "points": 3,
     "schema_version": 1,
     "solution": false
    }
   },
   "outputs": [],
   "source": [
    "# Tests 2\n",
    "assert_equal(get_i_power(2.6,5), 118.814)"
   ]
  },
  {
   "cell_type": "markdown",
   "metadata": {},
   "source": [
    "#### Question 5\n",
    "Write a function to reverse a string.\n",
    "\n",
    "E.g. function('Mountain') = 'niatnuoM'"
   ]
  },
  {
   "cell_type": "code",
   "execution_count": null,
   "metadata": {
    "deletable": false,
    "nbgrader": {
     "checksum": "4200abb9b0a88cc8d8865046c3e27f35",
     "grade": false,
     "grade_id": "cell-afe0b2a267eede6f",
     "locked": false,
     "schema_version": 1,
     "solution": true
    }
   },
   "outputs": [],
   "source": [
    "def reverse_string(s):\n",
    "    # Reverse string s\n",
    "    # E.g. reverse_string('Mountain') = 'niatnuoM'\n",
    "    # YOUR CODE HERE\n",
    "    raise NotImplementedError()"
   ]
  },
  {
   "cell_type": "code",
   "execution_count": null,
   "metadata": {
    "deletable": false,
    "editable": false,
    "nbgrader": {
     "checksum": "b30d9679ed7ee73e8664578c72b3985d",
     "grade": true,
     "grade_id": "cell-dfceb8f1cbacebb3",
     "locked": true,
     "points": 3,
     "schema_version": 1,
     "solution": false
    }
   },
   "outputs": [],
   "source": [
    "# Test 1\n",
    "assert_equal(reverse_string('Mount Meru'), 'ureM tnuoM')"
   ]
  },
  {
   "cell_type": "markdown",
   "metadata": {},
   "source": [
    "#### Question 6\n",
    "Given the assignment_dates list, can you return the days from this string\n",
    "\n",
    "E.g. function(assignment_dates) = ['Friday', 'Saturday', 'Sunday']"
   ]
  },
  {
   "cell_type": "code",
   "execution_count": null,
   "metadata": {
    "deletable": false,
    "nbgrader": {
     "checksum": "33095efb33c557488c71ef5bd8a08540",
     "grade": false,
     "grade_id": "cell-63604151c8149a01",
     "locked": false,
     "schema_version": 1,
     "solution": true
    }
   },
   "outputs": [],
   "source": [
    "def get_days(date_list):\n",
    "    # Return the days in the list of dates provided\n",
    "    # E.g. get_days(assignment_dates) = ['Friday', 'Saturday', 'Sunday']\n",
    "    # You may want to use python slicing, split commands\n",
    "    # YOUR CODE HERE\n",
    "    raise NotImplementedError()"
   ]
  },
  {
   "cell_type": "code",
   "execution_count": null,
   "metadata": {
    "deletable": false,
    "editable": false,
    "nbgrader": {
     "checksum": "c5716dfccd9f13183cfa31238afeb89d",
     "grade": true,
     "grade_id": "cell-4551b5f0d1528d7c",
     "locked": true,
     "points": 3,
     "schema_version": 1,
     "solution": false
    }
   },
   "outputs": [],
   "source": [
    "# Test 1\n",
    "assignment_dates = ['Friday 27 Jan 2017', 'Saturday 12 March 2016', 'Sunday 3 October 2015']\n",
    "assert_equal(get_days(assignment_dates), ['Friday', 'Saturday', 'Sunday'])"
   ]
  },
  {
   "cell_type": "code",
   "execution_count": null,
   "metadata": {
    "deletable": false,
    "editable": false,
    "nbgrader": {
     "checksum": "d19aa0710c66513a47e2c197c231728d",
     "grade": true,
     "grade_id": "cell-d83aee453ba53d9f",
     "locked": true,
     "points": 3,
     "schema_version": 1,
     "solution": false
    }
   },
   "outputs": [],
   "source": [
    "assignment_dates2 = ['Monday 17 Jan 2017', 'Tuesday 1 March 2016', 'Wednesday 30 October 2015']\n",
    "assert_equal(get_days(assignment_dates2), ['Monday', 'Tuesday', 'Wednesday'])"
   ]
  },
  {
   "cell_type": "code",
   "execution_count": null,
   "metadata": {
    "deletable": false,
    "editable": false,
    "nbgrader": {
     "checksum": "6e7e27d68fd506a486110e32bc37e1c3",
     "grade": true,
     "grade_id": "cell-2bc2d51ae2e141ca",
     "locked": true,
     "points": 2,
     "schema_version": 1,
     "solution": false
    }
   },
   "outputs": [],
   "source": [
    "# Tests 3\n",
    "assignment_dates3 = ['Thursday 27 Jan 2017']\n",
    "assert_equal(get_days(assignment_dates3), ['Thursday'])"
   ]
  },
  {
   "cell_type": "markdown",
   "metadata": {},
   "source": [
    "#### Question 7\n",
    "Complete the get_day_numbers function to return the INTEGER values for the numbers in the date\n",
    "\n",
    "E.g. get_day_numbers(['Tue 23 April 2017']) = [23]"
   ]
  },
  {
   "cell_type": "code",
   "execution_count": null,
   "metadata": {
    "deletable": false,
    "nbgrader": {
     "checksum": "98bbca85922964a2f1a743f3b4c7dce7",
     "grade": false,
     "grade_id": "cell-9899e00775c1dc99",
     "locked": false,
     "schema_version": 1,
     "solution": true
    }
   },
   "outputs": [],
   "source": [
    "def get_day_numbers(date_list):\n",
    "    # Return the day numbers e.g. 27, 12, 3\n",
    "    # YOUR CODE HERE\n",
    "    raise NotImplementedError()"
   ]
  },
  {
   "cell_type": "code",
   "execution_count": null,
   "metadata": {
    "deletable": false,
    "editable": false,
    "nbgrader": {
     "checksum": "351c9304ac00ba9c27ff93b762003fe1",
     "grade": true,
     "grade_id": "cell-01861b730dc74d86",
     "locked": true,
     "points": 4,
     "schema_version": 1,
     "solution": false
    }
   },
   "outputs": [],
   "source": [
    "# Test1\n",
    "assignment_dates = ['Friday 27 Jan 2017', 'Saturday 12 March 2016', 'Sunday 3 October 2015']\n",
    "assert_equal(get_day_numbers(assignment_dates), [27, 12, 3])"
   ]
  },
  {
   "cell_type": "code",
   "execution_count": null,
   "metadata": {
    "deletable": false,
    "editable": false,
    "nbgrader": {
     "checksum": "1168b911eb557a024b05de947983eb62",
     "grade": true,
     "grade_id": "cell-826206bbf3aa056f",
     "locked": true,
     "points": 3,
     "schema_version": 1,
     "solution": false
    }
   },
   "outputs": [],
   "source": [
    "# Test2\n",
    "assignment_dates2 = ['Monday 17 Jan 2017', 'Tuesday 1 March 2016', 'Wednesday 30 October 2015']\n",
    "assert_equal(get_day_numbers(assignment_dates2), [17, 1, 30])"
   ]
  },
  {
   "cell_type": "markdown",
   "metadata": {},
   "source": [
    "#### Question 8\n",
    "Complete the function to get the year in the date. Make sure this stays a string not an Integer"
   ]
  },
  {
   "cell_type": "code",
   "execution_count": null,
   "metadata": {
    "deletable": false,
    "nbgrader": {
     "checksum": "dd27e5fc295c3e1cc443f0117f99e1dd",
     "grade": false,
     "grade_id": "cell-d8fcc99e93e8e654",
     "locked": false,
     "schema_version": 1,
     "solution": true
    }
   },
   "outputs": [],
   "source": [
    "def get_years(date_list):\n",
    "    # Return years in the date list\n",
    "    # Use the assigment_dates as a testing list\n",
    "    # YOUR CODE HERE\n",
    "    raise NotImplementedError()"
   ]
  },
  {
   "cell_type": "code",
   "execution_count": null,
   "metadata": {
    "deletable": false,
    "editable": false,
    "nbgrader": {
     "checksum": "e91589083c0ffc3878d607910b32f30d",
     "grade": true,
     "grade_id": "cell-5f711d8c81943397",
     "locked": true,
     "points": 3,
     "schema_version": 1,
     "solution": false
    }
   },
   "outputs": [],
   "source": [
    "# Test1\n",
    "assignment_dates = ['Friday 27 Jan 2017', 'Saturday 12 March 2016', 'Sunday 3 October 2015']\n",
    "assert_equal(get_years(assignment_dates), ['2017', '2016', '2015'])"
   ]
  },
  {
   "cell_type": "code",
   "execution_count": null,
   "metadata": {
    "deletable": false,
    "editable": false,
    "nbgrader": {
     "checksum": "c6b0bb74ae5904c1fa4bb18230da72dd",
     "grade": true,
     "grade_id": "cell-6f005e652741f3ff",
     "locked": true,
     "points": 3,
     "schema_version": 1,
     "solution": false
    }
   },
   "outputs": [],
   "source": [
    "# Test2\n",
    "assignment_dates4 = ['Monday 17 Jan 2000', 'Tuesday 1 March 1998', 'Wednesday 30 October 2043']\n",
    "assert_equal(get_years(assignment_dates4), ['2000', '1998', '2043'])"
   ]
  },
  {
   "cell_type": "markdown",
   "metadata": {},
   "source": [
    "### Part B: Numpy"
   ]
  },
  {
   "cell_type": "markdown",
   "metadata": {},
   "source": [
    "Consider the array below"
   ]
  },
  {
   "cell_type": "code",
   "execution_count": null,
   "metadata": {},
   "outputs": [],
   "source": [
    "a = np.random.rand(4,5)\n",
    "a"
   ]
  },
  {
   "cell_type": "markdown",
   "metadata": {},
   "source": [
    "1. Generate an array called `ans1` comprising only the 2nd to 4th columns\n",
    "2. Generate an array called `ans2` of just the 1st to 3rd columns and the 2nd to 3rd rows\n",
    "3. What is the mean and standard deviation of the rows in array a (Name them `arows_mean`, `arows_sd`)\n",
    "4. Calculate the mean and variance of the columns in array a (Name them `acols_mean`, `acols_var`)"
   ]
  },
  {
   "cell_type": "code",
   "execution_count": null,
   "metadata": {
    "deletable": false,
    "nbgrader": {
     "checksum": "ea4b7808963cca71c3646b3e16b339ea",
     "grade": true,
     "grade_id": "cell-46900ace5babb8cf",
     "locked": false,
     "points": 2,
     "schema_version": 1,
     "solution": true
    }
   },
   "outputs": [],
   "source": [
    "# YOUR CODE HERE\n",
    "raise NotImplementedError()"
   ]
  },
  {
   "cell_type": "code",
   "execution_count": null,
   "metadata": {
    "deletable": false,
    "nbgrader": {
     "checksum": "6f120b50984e86be99347fc022522e04",
     "grade": true,
     "grade_id": "cell-b0c5638d712fc18e",
     "locked": false,
     "points": 2,
     "schema_version": 1,
     "solution": true
    }
   },
   "outputs": [],
   "source": [
    "# YOUR CODE HERE\n",
    "raise NotImplementedError()"
   ]
  },
  {
   "cell_type": "code",
   "execution_count": null,
   "metadata": {
    "deletable": false,
    "nbgrader": {
     "checksum": "9c1ba2b9525e99f1d6078548b1b8067e",
     "grade": true,
     "grade_id": "cell-8e3b647ae1383de4",
     "locked": false,
     "points": 5,
     "schema_version": 1,
     "solution": true
    }
   },
   "outputs": [],
   "source": [
    "# YOUR CODE HERE\n",
    "raise NotImplementedError()"
   ]
  },
  {
   "cell_type": "code",
   "execution_count": null,
   "metadata": {
    "deletable": false,
    "nbgrader": {
     "checksum": "b34a612001deadeeca72ead90ff1774f",
     "grade": true,
     "grade_id": "cell-b3181cc311873032",
     "locked": false,
     "points": 5,
     "schema_version": 1,
     "solution": true
    }
   },
   "outputs": [],
   "source": [
    "# YOUR CODE HERE\n",
    "raise NotImplementedError()"
   ]
  },
  {
   "cell_type": "markdown",
   "metadata": {},
   "source": [
    "Use numpy to load up the datafile `irisdata.txt`. Also load up the labels that correspond to this file `irislabels.txt`"
   ]
  },
  {
   "cell_type": "code",
   "execution_count": null,
   "metadata": {
    "deletable": false,
    "nbgrader": {
     "checksum": "69020a45ff75eb10ac1fb01c3a539513",
     "grade": true,
     "grade_id": "cell-37c4167b1c67a374",
     "locked": false,
     "points": 4,
     "schema_version": 1,
     "solution": true
    }
   },
   "outputs": [],
   "source": [
    "# YOUR CODE HERE\n",
    "raise NotImplementedError()"
   ]
  },
  {
   "cell_type": "markdown",
   "metadata": {},
   "source": [
    "1. What are the size of the data from the datafile? \n",
    "2. The irislabels file has the labels or classes corresponding to the data what are the sizes of the different classes ?"
   ]
  },
  {
   "cell_type": "code",
   "execution_count": null,
   "metadata": {
    "deletable": false,
    "nbgrader": {
     "checksum": "34d3137597739aa33bc24b27c4c2bcc2",
     "grade": true,
     "grade_id": "cell-1a3ec6ca5d0c1ee2",
     "locked": false,
     "points": 6,
     "schema_version": 1,
     "solution": true
    }
   },
   "outputs": [],
   "source": [
    "# YOUR CODE HERE\n",
    "raise NotImplementedError()"
   ]
  },
  {
   "cell_type": "markdown",
   "metadata": {},
   "source": [
    "#### Manually building a prototype based classifier"
   ]
  },
  {
   "cell_type": "markdown",
   "metadata": {},
   "source": [
    "A prototype classifier obtains a very good representative of each class - also called a prototype and uses this for the classification task by computing the distance between a test set and the prototypes of each class. We are going to try and build one using this data.\n",
    "\n",
    "To start this we need to split our data into a training and test set. "
   ]
  },
  {
   "cell_type": "code",
   "execution_count": null,
   "metadata": {
    "deletable": false,
    "nbgrader": {
     "checksum": "cd4e5ea6caf947d4c2d01f08bc56e871",
     "grade": true,
     "grade_id": "cell-87db5de2af7ebdd0",
     "locked": false,
     "points": 5,
     "schema_version": 1,
     "solution": true
    }
   },
   "outputs": [],
   "source": [
    "# YOUR CODE HERE\n",
    "raise NotImplementedError()"
   ]
  },
  {
   "cell_type": "code",
   "execution_count": null,
   "metadata": {
    "deletable": false,
    "nbgrader": {
     "checksum": "0685f9d161eaf24c536587f7b313ebd0",
     "grade": true,
     "grade_id": "cell-d1a12d347ddd519c",
     "locked": false,
     "points": 3,
     "schema_version": 1,
     "solution": true
    }
   },
   "outputs": [],
   "source": [
    "# YOUR CODE HERE\n",
    "raise NotImplementedError()"
   ]
  },
  {
   "cell_type": "markdown",
   "metadata": {},
   "source": [
    "Now we want to get the prototypes. This process can be complicated but for now lets just get the average of each of the data examples representing each class. "
   ]
  },
  {
   "cell_type": "code",
   "execution_count": null,
   "metadata": {
    "deletable": false,
    "nbgrader": {
     "checksum": "b0ceb731669e0f6234413308f484b39b",
     "grade": true,
     "grade_id": "cell-da768715c85fff5e",
     "locked": false,
     "points": 5,
     "schema_version": 1,
     "solution": true
    }
   },
   "outputs": [],
   "source": [
    "# YOUR CODE HERE\n",
    "raise NotImplementedError()"
   ]
  },
  {
   "cell_type": "code",
   "execution_count": null,
   "metadata": {
    "deletable": false,
    "nbgrader": {
     "checksum": "a7955d490d0430899387721bd6f2642b",
     "grade": true,
     "grade_id": "cell-b5036749ed4bcf76",
     "locked": false,
     "points": 3,
     "schema_version": 1,
     "solution": true
    }
   },
   "outputs": [],
   "source": [
    "# YOUR CODE HERE\n",
    "raise NotImplementedError()"
   ]
  },
  {
   "cell_type": "markdown",
   "metadata": {},
   "source": [
    "Now lets see how well your algorithm performs"
   ]
  },
  {
   "cell_type": "code",
   "execution_count": null,
   "metadata": {
    "deletable": false,
    "nbgrader": {
     "checksum": "bdc0d11fb081d718c16b7ee108cd7274",
     "grade": true,
     "grade_id": "cell-55fcc77e8583f3d7",
     "locked": false,
     "points": 3,
     "schema_version": 1,
     "solution": true
    }
   },
   "outputs": [],
   "source": [
    "# YOUR CODE HERE\n",
    "raise NotImplementedError()"
   ]
  },
  {
   "cell_type": "code",
   "execution_count": null,
   "metadata": {
    "deletable": false,
    "nbgrader": {
     "checksum": "a3da3b90246133bca9acaa475563faac",
     "grade": true,
     "grade_id": "cell-b8ca262a964f59e3",
     "locked": false,
     "points": 2,
     "schema_version": 1,
     "solution": true
    }
   },
   "outputs": [],
   "source": [
    "# YOUR CODE HERE\n",
    "raise NotImplementedError()"
   ]
  },
  {
   "cell_type": "markdown",
   "metadata": {},
   "source": [
    "### Part C: Pandas - some data analytics tasks"
   ]
  },
  {
   "cell_type": "markdown",
   "metadata": {},
   "source": [
    "Load the dataset `uganda_produce.csv` using pandas `pandas.read_csv`"
   ]
  },
  {
   "cell_type": "code",
   "execution_count": null,
   "metadata": {
    "deletable": false,
    "nbgrader": {
     "checksum": "4491a98690fcb1d1f5c07e747be150e1",
     "grade": true,
     "grade_id": "cell-071d8da9c5fe0afe",
     "locked": false,
     "points": 4,
     "schema_version": 1,
     "solution": true
    }
   },
   "outputs": [],
   "source": [
    "# YOUR CODE HERE\n",
    "raise NotImplementedError()"
   ]
  },
  {
   "cell_type": "markdown",
   "metadata": {},
   "source": [
    "**Questions**\n",
    "\n",
    "1. How many unique items are there in the dataset (Hint: you may want to investigate the `unique` method of pandas)\n",
    "3. Of these products [sweet potatoes, beans and cassava] which had the highest yield overall ? What about for the year 2006 alone ?\n",
    "2. Which commodity(item) overall had the highest area harvested ?\n",
    "4. Plot the trend of area harvested for bananas over the years"
   ]
  },
  {
   "cell_type": "code",
   "execution_count": null,
   "metadata": {
    "deletable": false,
    "nbgrader": {
     "checksum": "2c84efbab0ab2fcc01b1c0ac7c3bf0ac",
     "grade": true,
     "grade_id": "cell-7f2ad888dd4f4214",
     "locked": false,
     "points": 1,
     "schema_version": 1,
     "solution": true
    }
   },
   "outputs": [],
   "source": [
    "# YOUR CODE HERE\n",
    "raise NotImplementedError()"
   ]
  },
  {
   "cell_type": "code",
   "execution_count": null,
   "metadata": {
    "deletable": false,
    "nbgrader": {
     "checksum": "fb81eacd538fb29112d0a55d085f3266",
     "grade": true,
     "grade_id": "cell-627284a78066ae4f",
     "locked": false,
     "points": 2,
     "schema_version": 1,
     "solution": true
    }
   },
   "outputs": [],
   "source": [
    "# YOUR CODE HERE\n",
    "raise NotImplementedError()"
   ]
  },
  {
   "cell_type": "code",
   "execution_count": null,
   "metadata": {
    "deletable": false,
    "nbgrader": {
     "checksum": "c1ce58edf6a600c330752e7c91b7589e",
     "grade": true,
     "grade_id": "cell-7d6a7ea4969781d7",
     "locked": false,
     "points": 2,
     "schema_version": 1,
     "solution": true
    }
   },
   "outputs": [],
   "source": [
    "# YOUR CODE HERE\n",
    "raise NotImplementedError()"
   ]
  },
  {
   "cell_type": "code",
   "execution_count": null,
   "metadata": {
    "deletable": false,
    "nbgrader": {
     "checksum": "0ea996b486eda108249230fae43fd498",
     "grade": true,
     "grade_id": "cell-84618533f475324e",
     "locked": false,
     "points": 5,
     "schema_version": 1,
     "solution": true
    }
   },
   "outputs": [],
   "source": [
    "# YOUR CODE HERE\n",
    "raise NotImplementedError()"
   ]
  }
 ],
 "metadata": {
  "kernelspec": {
   "display_name": "Python 3 (ipykernel)",
   "language": "python",
   "name": "python3"
  },
  "language_info": {
   "codemirror_mode": {
    "name": "ipython",
    "version": 3
   },
   "file_extension": ".py",
   "mimetype": "text/x-python",
   "name": "python",
   "nbconvert_exporter": "python",
   "pygments_lexer": "ipython3",
   "version": "3.8.10"
  }
 },
 "nbformat": 4,
 "nbformat_minor": 4
}
