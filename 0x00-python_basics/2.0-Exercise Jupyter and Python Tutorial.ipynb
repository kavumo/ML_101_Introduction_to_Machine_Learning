{
 "cells": [
  {
   "cell_type": "markdown",
   "metadata": {},
   "source": [
    "Ensure you are using Python 3.0 and above\n",
    "\n",
    "Make sure you fill in any place that says `YOUR CODE HERE` or \"YOUR ANSWER HERE\". Delete the 'raise NotImplementedError()' once you write your code there"
   ]
  },
  {
   "cell_type": "code",
   "execution_count": 1,
   "metadata": {
    "deletable": false,
    "editable": false,
    "nbgrader": {
     "checksum": "97c2d5b538162e1e7b7d50e0c9917ff5",
     "grade": false,
     "grade_id": "cell-2db564b1f4bb5965",
     "locked": true,
     "schema_version": 1,
     "solution": false
    }
   },
   "outputs": [],
   "source": [
    "import IPython\n",
    "assert IPython.version_info[0] >= 3, \"Your version of IPython is too old, please update it.\""
   ]
  },
  {
   "cell_type": "markdown",
   "metadata": {},
   "source": [
    "### Complete the following Python exercises and submit the notebook on class folder"
   ]
  },
  {
   "cell_type": "code",
   "execution_count": 2,
   "metadata": {
    "deletable": false,
    "editable": false,
    "nbgrader": {
     "checksum": "c5b1619e75145b28250ff6f0bca6508b",
     "grade": false,
     "grade_id": "cell-357d7836b104559b",
     "locked": true,
     "schema_version": 1,
     "solution": false
    }
   },
   "outputs": [],
   "source": [
    "# Imports\n",
    "import numpy as np\n",
    "from nose.tools import *\n",
    "import IPython\n",
    "assert IPython.version_info[0] >= 3, \"Your version of IPython is too old, please update it.\""
   ]
  },
  {
   "cell_type": "markdown",
   "metadata": {},
   "source": [
    "### Part A - Python stuff"
   ]
  },
  {
   "cell_type": "markdown",
   "metadata": {},
   "source": [
    "#### Question 1\n",
    "Write a function that adds two numbers together. If the numbers result in decimals, make sure that they are rounded off to 2 significant decimals, i.e. 23.1234 + 12.4321 = 35.56"
   ]
  },
  {
   "cell_type": "code",
   "execution_count": 7,
   "metadata": {
    "deletable": false,
    "nbgrader": {
     "checksum": "f176d7b717e0826ae367803444c80728",
     "grade": false,
     "grade_id": "cell-cb3cad34e6f02386",
     "locked": false,
     "schema_version": 1,
     "solution": true
    }
   },
   "outputs": [],
   "source": [
    "# warm up\n",
    "def add_two_numbers(x,y):\n",
    "    return round((x+y),2)"
   ]
  },
  {
   "cell_type": "code",
   "execution_count": 8,
   "metadata": {
    "deletable": false,
    "editable": false,
    "nbgrader": {
     "checksum": "acb27db3f8043df2f54e21f9f81b6c6d",
     "grade": true,
     "grade_id": "cell-38e9dccd85269c70",
     "locked": true,
     "points": 3,
     "schema_version": 1,
     "solution": false
    }
   },
   "outputs": [
    {
     "name": "stdout",
     "output_type": "stream",
     "text": [
      "21.38\n"
     ]
    }
   ],
   "source": [
    "# Run tests\n",
    "assert_equal= add_two_numbers(10.390, 10.9899)\n",
    "print(assert_equal)\n"
   ]
  },
  {
   "cell_type": "markdown",
   "metadata": {},
   "source": [
    "#### Question 2\n",
    "Complete this function to provide the cummulative sum of the first N numbers. The numbers should be counted from 1,2,.... Tip: You may want to look at the range function of Python.\n",
    "E.g. function(4) = 1+2+3+4 = 10\n",
    "\n",
    "Add an additional check - if the number N provided is outside an acceptable range, return 0. The acceptable range is 0 - 200 inclusive (i.e. it includes 0 and 200)"
   ]
  },
  {
   "cell_type": "code",
   "execution_count": 15,
   "metadata": {
    "deletable": false,
    "nbgrader": {
     "checksum": "331e1a0a44d9630a0db845ac6b47ef3e",
     "grade": false,
     "grade_id": "cell-ddc6a0cd82f6d7db",
     "locked": false,
     "schema_version": 1,
     "solution": true
    }
   },
   "outputs": [],
   "source": [
    "def sum_first_N_numbers(N):\n",
    "    if 0 <= N <= 200:\n",
    "        return sum(range(1, N + 1))\n",
    "    else:\n",
    "        return 0\n"
   ]
  },
  {
   "cell_type": "code",
   "execution_count": 17,
   "metadata": {
    "deletable": false,
    "editable": false,
    "nbgrader": {
     "checksum": "ebc4f7dd6fbcce9868c78647e6d5f34d",
     "grade": true,
     "grade_id": "cell-34d1aba5d7cc55d8",
     "locked": true,
     "points": 2,
     "schema_version": 1,
     "solution": false
    }
   },
   "outputs": [
    {
     "name": "stdout",
     "output_type": "stream",
     "text": [
      "Result for N=4: 10\n"
     ]
    }
   ],
   "source": [
    "# Tests 1\n",
    "result1 = sum_first_N_numbers(4)\n",
    "print(\"Result for N=4:\", result1)"
   ]
  },
  {
   "cell_type": "code",
   "execution_count": 18,
   "metadata": {
    "deletable": false,
    "editable": false,
    "nbgrader": {
     "checksum": "68dd61f6c09ee516d5835b0e8069b131",
     "grade": true,
     "grade_id": "cell-93e0ff65d1eab080",
     "locked": true,
     "points": 2,
     "schema_version": 1,
     "solution": false
    }
   },
   "outputs": [
    {
     "name": "stdout",
     "output_type": "stream",
     "text": [
      "Result for N=0: 0\n"
     ]
    }
   ],
   "source": [
    "# Tests 2\n",
    "result2 = sum_first_N_numbers(0)\n",
    "print(\"Result for N=0:\", result2)"
   ]
  },
  {
   "cell_type": "code",
   "execution_count": 19,
   "metadata": {
    "deletable": false,
    "editable": false,
    "nbgrader": {
     "checksum": "9e4f1efb206371510de20b8babcda9b4",
     "grade": true,
     "grade_id": "cell-a9ade0586e328717",
     "locked": true,
     "points": 3,
     "schema_version": 1,
     "solution": false
    }
   },
   "outputs": [
    {
     "name": "stdout",
     "output_type": "stream",
     "text": [
      "Result for N=300: 0\n"
     ]
    }
   ],
   "source": [
    "# Tests 3\n",
    "result3 = sum_first_N_numbers(300)\n",
    "print(\"Result for N=300:\", result3)"
   ]
  },
  {
   "cell_type": "markdown",
   "metadata": {},
   "source": [
    "#### Question 3\n",
    "Write a function to calculate the mean of a list of numbers. Numbers should be rounded off to 2 significant decimals if they are decimal numbers\n",
    "\n",
    "E.g. function([2,2,2,2]) = 2"
   ]
  },
  {
   "cell_type": "code",
   "execution_count": 10,
   "metadata": {
    "deletable": false,
    "nbgrader": {
     "checksum": "62e86df1395570e610223e8ca7c36975",
     "grade": false,
     "grade_id": "cell-6a114e8a16020116",
     "locked": false,
     "schema_version": 1,
     "solution": true
    }
   },
   "outputs": [],
   "source": [
    "\n",
    "def get_mean(x):\n",
    "    if not x:\n",
    "        return None\n",
    "    else:\n",
    "        mean = sum(x) / len(x)\n",
    "        rounded_mean = round(mean, 2)\n",
    "        return rounded_mean"
   ]
  },
  {
   "cell_type": "code",
   "execution_count": 11,
   "metadata": {
    "deletable": false,
    "editable": false,
    "nbgrader": {
     "checksum": "538e0ae15ae19e99cd1b7384cdcf84b5",
     "grade": true,
     "grade_id": "cell-bb8d92f5fdb244ec",
     "locked": true,
     "points": 2,
     "schema_version": 1,
     "solution": false
    }
   },
   "outputs": [
    {
     "name": "stdout",
     "output_type": "stream",
     "text": [
      "3.5\n"
     ]
    }
   ],
   "source": [
    "# Tests 1\n",
    "#assert_equal(get_mean([2,3,4,5]), 3.5)\n",
    "numbers_list = [2, 3, 4, 5]\n",
    "result = get_mean(numbers_list)\n",
    "print(result)"
   ]
  },
  {
   "cell_type": "markdown",
   "metadata": {},
   "source": [
    "#### Question 4\n",
    "Complete the function to get the power of a number. Ensure that if it is a decimal number it is rounded off to 3 (THREE) decimal places. \n",
    "\n",
    "E.g. function(3,2) = 9"
   ]
  },
  {
   "cell_type": "code",
   "execution_count": 18,
   "metadata": {
    "deletable": false,
    "nbgrader": {
     "checksum": "ca0f1f6b1950f16565a99500151249e8",
     "grade": false,
     "grade_id": "cell-0d560c78a3ca2566",
     "locked": false,
     "schema_version": 1,
     "solution": true
    }
   },
   "outputs": [
    {
     "name": "stdout",
     "output_type": "stream",
     "text": [
      "16\n"
     ]
    }
   ],
   "source": [
    "def get_i_power(x, i):\n",
    "    result = x ** i\n",
    "\n",
    "    if isinstance(result, float):\n",
    "        result = round(result, 3)\n",
    "\n",
    "    return result\n"
   ]
  },
  {
   "cell_type": "code",
   "execution_count": 20,
   "metadata": {
    "deletable": false,
    "editable": false,
    "nbgrader": {
     "checksum": "98febda69272474c87f006a2ce156625",
     "grade": true,
     "grade_id": "cell-154da60daea46d99",
     "locked": true,
     "points": 2,
     "schema_version": 1,
     "solution": false
    }
   },
   "outputs": [
    {
     "name": "stdout",
     "output_type": "stream",
     "text": [
      "9\n"
     ]
    }
   ],
   "source": [
    "# Test 1\n",
    "#assert_equal(get_i_power(3,2), 9)\n",
    "result = get_i_power(3, 2)\n",
    "print(result)\n"
   ]
  },
  {
   "cell_type": "code",
   "execution_count": 21,
   "metadata": {
    "deletable": false,
    "editable": false,
    "nbgrader": {
     "checksum": "0e4fd0bf39412caabac00a4c23f61fed",
     "grade": true,
     "grade_id": "cell-52043c6a51a27e2c",
     "locked": true,
     "points": 3,
     "schema_version": 1,
     "solution": false
    }
   },
   "outputs": [
    {
     "name": "stdout",
     "output_type": "stream",
     "text": [
      "118.814\n"
     ]
    }
   ],
   "source": [
    "# Tests 2\n",
    "#assert_equal(get_i_power(2.6,5), 118.814)\n",
    "result2 = get_i_power(2.6, 5)\n",
    "print(result2)\n"
   ]
  },
  {
   "cell_type": "markdown",
   "metadata": {},
   "source": [
    "#### Question 5\n",
    "Write a function to reverse a string.\n",
    "\n",
    "E.g. function('Mountain') = 'niatnuoM'"
   ]
  },
  {
   "cell_type": "code",
   "execution_count": 11,
   "metadata": {
    "deletable": false,
    "nbgrader": {
     "checksum": "4200abb9b0a88cc8d8865046c3e27f35",
     "grade": false,
     "grade_id": "cell-afe0b2a267eede6f",
     "locked": false,
     "schema_version": 1,
     "solution": true
    }
   },
   "outputs": [],
   "source": [
    "def reverse_string(s):\n",
    "    return s[::-1]"
   ]
  },
  {
   "cell_type": "code",
   "execution_count": 12,
   "metadata": {
    "deletable": false,
    "editable": false,
    "nbgrader": {
     "checksum": "b30d9679ed7ee73e8664578c72b3985d",
     "grade": true,
     "grade_id": "cell-dfceb8f1cbacebb3",
     "locked": true,
     "points": 3,
     "schema_version": 1,
     "solution": false
    }
   },
   "outputs": [
    {
     "data": {
      "text/plain": [
       "'ureM tnuoM'"
      ]
     },
     "execution_count": 12,
     "metadata": {},
     "output_type": "execute_result"
    }
   ],
   "source": [
    "reverse_string('Mount Meru')"
   ]
  },
  {
   "cell_type": "markdown",
   "metadata": {},
   "source": [
    "#### Question 6\n",
    "Given the assignment_dates list, can you return the days from this string\n",
    "\n",
    "E.g. function(assignment_dates) = ['Friday', 'Saturday', 'Sunday']"
   ]
  },
  {
   "cell_type": "code",
   "execution_count": 21,
   "metadata": {
    "deletable": false,
    "nbgrader": {
     "checksum": "33095efb33c557488c71ef5bd8a08540",
     "grade": false,
     "grade_id": "cell-63604151c8149a01",
     "locked": false,
     "schema_version": 1,
     "solution": true
    }
   },
   "outputs": [],
   "source": [
    "def get_day(date_list):\n",
    "    return [(date.split()[-4]) for date in date_list]"
   ]
  },
  {
   "cell_type": "code",
   "execution_count": 22,
   "metadata": {
    "deletable": false,
    "editable": false,
    "nbgrader": {
     "checksum": "c5716dfccd9f13183cfa31238afeb89d",
     "grade": true,
     "grade_id": "cell-4551b5f0d1528d7c",
     "locked": true,
     "points": 3,
     "schema_version": 1,
     "solution": false
    }
   },
   "outputs": [
    {
     "name": "stdout",
     "output_type": "stream",
     "text": [
      "['Friday', 'Saturday', 'Sunday']\n"
     ]
    }
   ],
   "source": [
    "assignment_dates = ['Friday 27 Jan 2017', 'Saturday 12 March 2016', 'Sunday 3 October 2015']\n",
    "assert get_day(assignment_dates)\n",
    "print(get_day(assignment_dates))"
   ]
  },
  {
   "cell_type": "code",
   "execution_count": 23,
   "metadata": {
    "deletable": false,
    "editable": false,
    "nbgrader": {
     "checksum": "d19aa0710c66513a47e2c197c231728d",
     "grade": true,
     "grade_id": "cell-d83aee453ba53d9f",
     "locked": true,
     "points": 3,
     "schema_version": 1,
     "solution": false
    }
   },
   "outputs": [
    {
     "name": "stdout",
     "output_type": "stream",
     "text": [
      "['Monday', 'Tuesday', 'Wednesday']\n"
     ]
    }
   ],
   "source": [
    "assignment_dates2 = ['Monday 17 Jan 2017', 'Tuesday 1 March 2016', 'Wednesday 30 October 2015']\n",
    "assert get_day(assignment_dates2)\n",
    "print(get_day(assignment_dates2))"
   ]
  },
  {
   "cell_type": "code",
   "execution_count": 24,
   "metadata": {
    "deletable": false,
    "editable": false,
    "nbgrader": {
     "checksum": "6e7e27d68fd506a486110e32bc37e1c3",
     "grade": true,
     "grade_id": "cell-2bc2d51ae2e141ca",
     "locked": true,
     "points": 2,
     "schema_version": 1,
     "solution": false
    }
   },
   "outputs": [
    {
     "name": "stdout",
     "output_type": "stream",
     "text": [
      "['Thursday']\n"
     ]
    }
   ],
   "source": [
    "\n",
    "assignment_dates3 = ['Thursday 27 Jan 2017']\n",
    "assert get_day(assignment_dates3)\n",
    "print(get_day(assignment_dates3))"
   ]
  },
  {
   "cell_type": "markdown",
   "metadata": {},
   "source": [
    "#### Question 7\n",
    "Complete the get_day_numbers function to return the INTEGER values for the numbers in the date\n",
    "\n",
    "E.g. get_day_numbers(['Tue 23 April 2017']) = [23]"
   ]
  },
  {
   "cell_type": "code",
   "execution_count": 33,
   "metadata": {
    "deletable": false,
    "nbgrader": {
     "checksum": "98bbca85922964a2f1a743f3b4c7dce7",
     "grade": false,
     "grade_id": "cell-9899e00775c1dc99",
     "locked": false,
     "schema_version": 1,
     "solution": true
    }
   },
   "outputs": [],
   "source": [
    "def get_day_numbers(date_list):\n",
    "    return [int(date.split()[1]) for date in date_list]\n"
   ]
  },
  {
   "cell_type": "code",
   "execution_count": 34,
   "metadata": {
    "deletable": false,
    "editable": false,
    "nbgrader": {
     "checksum": "351c9304ac00ba9c27ff93b762003fe1",
     "grade": true,
     "grade_id": "cell-01861b730dc74d86",
     "locked": true,
     "points": 4,
     "schema_version": 1,
     "solution": false
    }
   },
   "outputs": [
    {
     "name": "stdout",
     "output_type": "stream",
     "text": [
      "[30, 19, 10]\n"
     ]
    }
   ],
   "source": [
    "# Test1\n",
    "assignment_dates = ['Friday 30 Jan 2017', 'Saturday 19 March 2016', 'Sunday 10 October 2015']\n",
    "assert get_day_numbers(assignment_dates)\n",
    "\n",
    "print(get_day_numbers(assignment_dates))\n"
   ]
  },
  {
   "cell_type": "code",
   "execution_count": 10,
   "metadata": {
    "deletable": false,
    "editable": false,
    "nbgrader": {
     "checksum": "1168b911eb557a024b05de947983eb62",
     "grade": true,
     "grade_id": "cell-826206bbf3aa056f",
     "locked": true,
     "points": 3,
     "schema_version": 1,
     "solution": false
    }
   },
   "outputs": [
    {
     "name": "stdout",
     "output_type": "stream",
     "text": [
      "[17, 1, 30]\n"
     ]
    }
   ],
   "source": [
    "# Test2\n",
    "assignment_dates2 = ['Monday 17 Jan 2017', 'Tuesday 1 March 2016', 'Wednesday 30 October 2015']\n",
    "assert get_day_numbers(assignment_dates2)\n",
    "\n",
    "print(get_day_numbers(assignment_dates2))"
   ]
  },
  {
   "cell_type": "markdown",
   "metadata": {},
   "source": [
    "#### Question 8\n",
    "Complete the function to get the year in the date. Make sure this stays a string not an Integer"
   ]
  },
  {
   "cell_type": "code",
   "execution_count": 4,
   "metadata": {
    "deletable": false,
    "nbgrader": {
     "checksum": "dd27e5fc295c3e1cc443f0117f99e1dd",
     "grade": false,
     "grade_id": "cell-d8fcc99e93e8e654",
     "locked": false,
     "schema_version": 1,
     "solution": true
    }
   },
   "outputs": [],
   "source": [
    "\n",
    "def get_years(date_list):\n",
    "    return [date.split()[-1] for date in date_list]\n"
   ]
  },
  {
   "cell_type": "code",
   "execution_count": 11,
   "metadata": {
    "deletable": false,
    "editable": false,
    "nbgrader": {
     "checksum": "e91589083c0ffc3878d607910b32f30d",
     "grade": true,
     "grade_id": "cell-5f711d8c81943397",
     "locked": true,
     "points": 3,
     "schema_version": 1,
     "solution": false
    }
   },
   "outputs": [
    {
     "name": "stdout",
     "output_type": "stream",
     "text": [
      "['2017', '2016', '2015']\n"
     ]
    }
   ],
   "source": [
    "# Test1\n",
    "assignment_dates = ['Friday 27 Jan 2017', 'Saturday 12 March 2016', 'Sunday 3 October 2015']\n",
    "assert get_years(assignment_dates) \n",
    "print(get_years(assignment_dates))\n"
   ]
  },
  {
   "cell_type": "code",
   "execution_count": 12,
   "metadata": {
    "deletable": false,
    "editable": false,
    "nbgrader": {
     "checksum": "c6b0bb74ae5904c1fa4bb18230da72dd",
     "grade": true,
     "grade_id": "cell-6f005e652741f3ff",
     "locked": true,
     "points": 3,
     "schema_version": 1,
     "solution": false
    }
   },
   "outputs": [
    {
     "name": "stdout",
     "output_type": "stream",
     "text": [
      "['2000', '1998', '2043']\n"
     ]
    }
   ],
   "source": [
    "# Test2\n",
    "assignment_dates4 = ['Monday 17 Jan 2000', 'Tuesday 1 March 1998', 'Wednesday 30 October 2043']\n",
    "assert get_years(assignment_dates4)\n",
    "print(get_years(assignment_dates4))"
   ]
  },
  {
   "cell_type": "markdown",
   "metadata": {},
   "source": [
    "### Part B: Numpy"
   ]
  },
  {
   "cell_type": "markdown",
   "metadata": {},
   "source": [
    "Consider the array below"
   ]
  },
  {
   "cell_type": "code",
   "execution_count": 2,
   "metadata": {},
   "outputs": [],
   "source": [
    "import numpy as np"
   ]
  },
  {
   "cell_type": "code",
   "execution_count": 3,
   "metadata": {},
   "outputs": [
    {
     "data": {
      "text/plain": [
       "array([[0.5602076 , 0.58934562, 0.90658525, 0.79266395, 0.29759283],\n",
       "       [0.45451755, 0.38554837, 0.90007169, 0.85081396, 0.9616947 ],\n",
       "       [0.98338119, 0.96519991, 0.74784715, 0.71343264, 0.02709132],\n",
       "       [0.65838204, 0.44513954, 0.98074345, 0.02461114, 0.38649424]])"
      ]
     },
     "execution_count": 3,
     "metadata": {},
     "output_type": "execute_result"
    }
   ],
   "source": [
    "a = np.random.rand(4,5)\n",
    "a"
   ]
  },
  {
   "cell_type": "markdown",
   "metadata": {},
   "source": [
    "1. Generate an array called `ans1` comprising only the 2nd to 4th columns\n",
    "2. Generate an array called `ans2` of just the 1st to 3rd columns and the 2nd to 3rd rows\n",
    "3. What is the mean and standard deviation of the rows in array a (Name them `arows_mean`, `arows_sd`)\n",
    "4. Calculate the mean and variance of the columns in array a (Name them `acols_mean`, `acols_var`)"
   ]
  },
  {
   "cell_type": "code",
   "execution_count": 4,
   "metadata": {
    "deletable": false,
    "nbgrader": {
     "checksum": "ea4b7808963cca71c3646b3e16b339ea",
     "grade": true,
     "grade_id": "cell-46900ace5babb8cf",
     "locked": false,
     "points": 2,
     "schema_version": 1,
     "solution": true
    }
   },
   "outputs": [
    {
     "name": "stdout",
     "output_type": "stream",
     "text": [
      "[[0.35497008 0.95390328 0.45044047]\n",
      " [0.43807338 0.94003489 0.44337292]\n",
      " [0.48313577 0.5372849  0.03129841]\n",
      " [0.01628775 0.94540743 0.79896787]]\n"
     ]
    }
   ],
   "source": [
    "\n",
    "import numpy as np\n",
    "a = np.random.rand(4,5)\n",
    "ans1 = a[:, 1:4]\n",
    "print(ans1)"
   ]
  },
  {
   "cell_type": "code",
   "execution_count": 5,
   "metadata": {
    "deletable": false,
    "nbgrader": {
     "checksum": "6f120b50984e86be99347fc022522e04",
     "grade": true,
     "grade_id": "cell-b0c5638d712fc18e",
     "locked": false,
     "points": 2,
     "schema_version": 1,
     "solution": true
    }
   },
   "outputs": [
    {
     "name": "stdout",
     "output_type": "stream",
     "text": [
      "[[0.69531253 0.43807338 0.94003489]\n",
      " [0.18415959 0.48313577 0.5372849 ]]\n"
     ]
    }
   ],
   "source": [
    "\n",
    "import numpy as np \n",
    "\n",
    "ans2 = a[1:3, 0:3]\n",
    "\n",
    "# Print the result\n",
    "print(ans2)\n"
   ]
  },
  {
   "cell_type": "code",
   "execution_count": 6,
   "metadata": {
    "deletable": false,
    "nbgrader": {
     "checksum": "9c1ba2b9525e99f1d6078548b1b8067e",
     "grade": true,
     "grade_id": "cell-8e3b647ae1383de4",
     "locked": false,
     "points": 5,
     "schema_version": 1,
     "solution": true
    }
   },
   "outputs": [
    {
     "name": "stdout",
     "output_type": "stream",
     "text": [
      "Mean of the rows: [0.47196967 0.60496132 0.32460077 0.62064193]\n",
      "Standard deviation of the rows: [0.28577562 0.19172847 0.18975099 0.38035421]\n"
     ]
    }
   ],
   "source": [
    "\n",
    "import numpy as np\n",
    "arows_mean = np.mean(a, axis=1)\n",
    "arows_sd = np.std(a, axis=1)\n",
    "\n",
    "# Print the results\n",
    "print(\"Mean of the rows:\", arows_mean)\n",
    "print(\"Standard deviation of the rows:\", arows_sd)\n",
    "\n",
    "\n"
   ]
  },
  {
   "cell_type": "code",
   "execution_count": 7,
   "metadata": {
    "deletable": false,
    "nbgrader": {
     "checksum": "b34a612001deadeeca72ead90ff1774f",
     "grade": true,
     "grade_id": "cell-b3181cc311873032",
     "locked": false,
     "points": 5,
     "schema_version": 1,
     "solution": true
    }
   },
   "outputs": [
    {
     "name": "stdout",
     "output_type": "stream",
     "text": [
      "Mean of the columns: [0.60157876 0.32311675 0.84415763 0.43101992 0.32784405]\n",
      "Variance of the columns: [0.08676193 0.03349495 0.03141474 0.07392318 0.02523915]\n"
     ]
    }
   ],
   "source": [
    "import numpy as np\n",
    "acols_mean = np.mean(a, axis=0)\n",
    "acols_var = np.var(a, axis=0)\n",
    "\n",
    "# Print the results\n",
    "print(\"Mean of the columns:\", acols_mean)\n",
    "print(\"Variance of the columns:\", acols_var)"
   ]
  },
  {
   "cell_type": "markdown",
   "metadata": {},
   "source": [
    "Use numpy to load up the datafile `irisdata.txt`. Also load up the labels that correspond to this file `irislabels.txt`"
   ]
  },
  {
   "cell_type": "code",
   "execution_count": 8,
   "metadata": {
    "deletable": false,
    "nbgrader": {
     "checksum": "69020a45ff75eb10ac1fb01c3a539513",
     "grade": true,
     "grade_id": "cell-37c4167b1c67a374",
     "locked": false,
     "points": 4,
     "schema_version": 1,
     "solution": true
    }
   },
   "outputs": [
    {
     "name": "stdout",
     "output_type": "stream",
     "text": [
      "Iris Data:\n",
      " [[5.1 3.5 1.4 0.2]\n",
      " [4.9 3.  1.4 0.2]\n",
      " [4.7 3.2 1.3 0.2]\n",
      " [4.6 3.1 1.5 0.2]\n",
      " [5.  3.6 1.4 0.2]\n",
      " [5.4 3.9 1.7 0.4]\n",
      " [4.6 3.4 1.4 0.3]\n",
      " [5.  3.4 1.5 0.2]\n",
      " [4.4 2.9 1.4 0.2]\n",
      " [4.9 3.1 1.5 0.1]\n",
      " [5.4 3.7 1.5 0.2]\n",
      " [4.8 3.4 1.6 0.2]\n",
      " [4.8 3.  1.4 0.1]\n",
      " [4.3 3.  1.1 0.1]\n",
      " [5.8 4.  1.2 0.2]\n",
      " [5.7 4.4 1.5 0.4]\n",
      " [5.4 3.9 1.3 0.4]\n",
      " [5.1 3.5 1.4 0.3]\n",
      " [5.7 3.8 1.7 0.3]\n",
      " [5.1 3.8 1.5 0.3]\n",
      " [5.4 3.4 1.7 0.2]\n",
      " [5.1 3.7 1.5 0.4]\n",
      " [4.6 3.6 1.  0.2]\n",
      " [5.1 3.3 1.7 0.5]\n",
      " [4.8 3.4 1.9 0.2]\n",
      " [5.  3.  1.6 0.2]\n",
      " [5.  3.4 1.6 0.4]\n",
      " [5.2 3.5 1.5 0.2]\n",
      " [5.2 3.4 1.4 0.2]\n",
      " [4.7 3.2 1.6 0.2]\n",
      " [4.8 3.1 1.6 0.2]\n",
      " [5.4 3.4 1.5 0.4]\n",
      " [5.2 4.1 1.5 0.1]\n",
      " [5.5 4.2 1.4 0.2]\n",
      " [4.9 3.1 1.5 0.1]\n",
      " [5.  3.2 1.2 0.2]\n",
      " [5.5 3.5 1.3 0.2]\n",
      " [4.9 3.1 1.5 0.1]\n",
      " [4.4 3.  1.3 0.2]\n",
      " [5.1 3.4 1.5 0.2]\n",
      " [5.  3.5 1.3 0.3]\n",
      " [4.5 2.3 1.3 0.3]\n",
      " [4.4 3.2 1.3 0.2]\n",
      " [5.  3.5 1.6 0.6]\n",
      " [5.1 3.8 1.9 0.4]\n",
      " [4.8 3.  1.4 0.3]\n",
      " [5.1 3.8 1.6 0.2]\n",
      " [4.6 3.2 1.4 0.2]\n",
      " [5.3 3.7 1.5 0.2]\n",
      " [5.  3.3 1.4 0.2]\n",
      " [7.  3.2 4.7 1.4]\n",
      " [6.4 3.2 4.5 1.5]\n",
      " [6.9 3.1 4.9 1.5]\n",
      " [5.5 2.3 4.  1.3]\n",
      " [6.5 2.8 4.6 1.5]\n",
      " [5.7 2.8 4.5 1.3]\n",
      " [6.3 3.3 4.7 1.6]\n",
      " [4.9 2.4 3.3 1. ]\n",
      " [6.6 2.9 4.6 1.3]\n",
      " [5.2 2.7 3.9 1.4]\n",
      " [5.  2.  3.5 1. ]\n",
      " [5.9 3.  4.2 1.5]\n",
      " [6.  2.2 4.  1. ]\n",
      " [6.1 2.9 4.7 1.4]\n",
      " [5.6 2.9 3.6 1.3]\n",
      " [6.7 3.1 4.4 1.4]\n",
      " [5.6 3.  4.5 1.5]\n",
      " [5.8 2.7 4.1 1. ]\n",
      " [6.2 2.2 4.5 1.5]\n",
      " [5.6 2.5 3.9 1.1]\n",
      " [5.9 3.2 4.8 1.8]\n",
      " [6.1 2.8 4.  1.3]\n",
      " [6.3 2.5 4.9 1.5]\n",
      " [6.1 2.8 4.7 1.2]\n",
      " [6.4 2.9 4.3 1.3]\n",
      " [6.6 3.  4.4 1.4]\n",
      " [6.8 2.8 4.8 1.4]\n",
      " [6.7 3.  5.  1.7]\n",
      " [6.  2.9 4.5 1.5]\n",
      " [5.7 2.6 3.5 1. ]\n",
      " [5.5 2.4 3.8 1.1]\n",
      " [5.5 2.4 3.7 1. ]\n",
      " [5.8 2.7 3.9 1.2]\n",
      " [6.  2.7 5.1 1.6]\n",
      " [5.4 3.  4.5 1.5]\n",
      " [6.  3.4 4.5 1.6]\n",
      " [6.7 3.1 4.7 1.5]\n",
      " [6.3 2.3 4.4 1.3]\n",
      " [5.6 3.  4.1 1.3]\n",
      " [5.5 2.5 4.  1.3]\n",
      " [5.5 2.6 4.4 1.2]\n",
      " [6.1 3.  4.6 1.4]\n",
      " [5.8 2.6 4.  1.2]\n",
      " [5.  2.3 3.3 1. ]\n",
      " [5.6 2.7 4.2 1.3]\n",
      " [5.7 3.  4.2 1.2]\n",
      " [5.7 2.9 4.2 1.3]\n",
      " [6.2 2.9 4.3 1.3]\n",
      " [5.1 2.5 3.  1.1]\n",
      " [5.7 2.8 4.1 1.3]\n",
      " [6.3 3.3 6.  2.5]\n",
      " [5.8 2.7 5.1 1.9]\n",
      " [7.1 3.  5.9 2.1]\n",
      " [6.3 2.9 5.6 1.8]\n",
      " [6.5 3.  5.8 2.2]\n",
      " [7.6 3.  6.6 2.1]\n",
      " [4.9 2.5 4.5 1.7]\n",
      " [7.3 2.9 6.3 1.8]\n",
      " [6.7 2.5 5.8 1.8]\n",
      " [7.2 3.6 6.1 2.5]\n",
      " [6.5 3.2 5.1 2. ]\n",
      " [6.4 2.7 5.3 1.9]\n",
      " [6.8 3.  5.5 2.1]\n",
      " [5.7 2.5 5.  2. ]\n",
      " [5.8 2.8 5.1 2.4]\n",
      " [6.4 3.2 5.3 2.3]\n",
      " [6.5 3.  5.5 1.8]\n",
      " [7.7 3.8 6.7 2.2]\n",
      " [7.7 2.6 6.9 2.3]\n",
      " [6.  2.2 5.  1.5]\n",
      " [6.9 3.2 5.7 2.3]\n",
      " [5.6 2.8 4.9 2. ]\n",
      " [7.7 2.8 6.7 2. ]\n",
      " [6.3 2.7 4.9 1.8]\n",
      " [6.7 3.3 5.7 2.1]\n",
      " [7.2 3.2 6.  1.8]\n",
      " [6.2 2.8 4.8 1.8]\n",
      " [6.1 3.  4.9 1.8]\n",
      " [6.4 2.8 5.6 2.1]\n",
      " [7.2 3.  5.8 1.6]\n",
      " [7.4 2.8 6.1 1.9]\n",
      " [7.9 3.8 6.4 2. ]\n",
      " [6.4 2.8 5.6 2.2]\n",
      " [6.3 2.8 5.1 1.5]\n",
      " [6.1 2.6 5.6 1.4]\n",
      " [7.7 3.  6.1 2.3]\n",
      " [6.3 3.4 5.6 2.4]\n",
      " [6.4 3.1 5.5 1.8]\n",
      " [6.  3.  4.8 1.8]\n",
      " [6.9 3.1 5.4 2.1]\n",
      " [6.7 3.1 5.6 2.4]\n",
      " [6.9 3.1 5.1 2.3]\n",
      " [5.8 2.7 5.1 1.9]\n",
      " [6.8 3.2 5.9 2.3]\n",
      " [6.7 3.3 5.7 2.5]\n",
      " [6.7 3.  5.2 2.3]\n",
      " [6.3 2.5 5.  1.9]\n",
      " [6.5 3.  5.2 2. ]\n",
      " [6.2 3.4 5.4 2.3]\n",
      " [5.9 3.  5.1 1.8]]\n",
      "\n",
      "Iris Labels:\n",
      " [0 0 0 0 0 0 0 0 0 0 0 0 0 0 0 0 0 0 0 0 0 0 0 0 0 0 0 0 0 0 0 0 0 0 0 0 0\n",
      " 0 0 0 0 0 0 0 0 0 0 0 0 0 1 1 1 1 1 1 1 1 1 1 1 1 1 1 1 1 1 1 1 1 1 1 1 1\n",
      " 1 1 1 1 1 1 1 1 1 1 1 1 1 1 1 1 1 1 1 1 1 1 1 1 1 1 2 2 2 2 2 2 2 2 2 2 2\n",
      " 2 2 2 2 2 2 2 2 2 2 2 2 2 2 2 2 2 2 2 2 2 2 2 2 2 2 2 2 2 2 2 2 2 2 2 2 2\n",
      " 2 2]\n"
     ]
    },
    {
     "name": "stderr",
     "output_type": "stream",
     "text": [
      "C:\\Users\\user\\AppData\\Local\\Temp\\ipykernel_6900\\2336837699.py:9: DeprecationWarning: loadtxt(): Parsing an integer via a float is deprecated.  To avoid this warning, you can:\n",
      "    * make sure the original data is stored as integers.\n",
      "    * use the `converters=` keyword argument.  If you only use\n",
      "      NumPy 1.23 or later, `converters=float` will normally work.\n",
      "    * Use `np.loadtxt(...).astype(np.int64)` parsing the file as\n",
      "      floating point and then convert it.  (On all NumPy versions.)\n",
      "  (Deprecated NumPy 1.23)\n",
      "  iris_labels = np.loadtxt(labels_file_path, dtype=int)\n"
     ]
    }
   ],
   "source": [
    "import numpy as np\n",
    "\n",
    "# Load the data from irisdata.txt\n",
    "data_file_path = 'irisdata.txt' \n",
    "iris_data = np.loadtxt(data_file_path, delimiter=',')\n",
    "\n",
    "# Load the labels from irislabels.txt\n",
    "labels_file_path = 'irislabels.txt' \n",
    "iris_labels = np.loadtxt(labels_file_path, dtype=int)\n",
    "\n",
    "# Print the loaded data and labels\n",
    "print(\"Iris Data:\\n\", iris_data)\n",
    "print(\"\\nIris Labels:\\n\", iris_labels)\n"
   ]
  },
  {
   "cell_type": "markdown",
   "metadata": {},
   "source": [
    "1. What are the size of the data from the datafile? \n",
    "2. The irislabels file has the labels or classes corresponding to the data what are the sizes of the different classes ?"
   ]
  },
  {
   "cell_type": "code",
   "execution_count": 9,
   "metadata": {
    "deletable": false,
    "nbgrader": {
     "checksum": "34d3137597739aa33bc24b27c4c2bcc2",
     "grade": true,
     "grade_id": "cell-1a3ec6ca5d0c1ee2",
     "locked": false,
     "points": 6,
     "schema_version": 1,
     "solution": true
    }
   },
   "outputs": [
    {
     "name": "stdout",
     "output_type": "stream",
     "text": [
      "Size of the data: (150, 4)\n",
      "\n",
      "Sizes of different classes:\n",
      "Class 0: 50\n",
      "Class 1: 50\n",
      "Class 2: 50\n"
     ]
    }
   ],
   "source": [
    "data_size = iris_data.shape\n",
    "print(\"Size of the data:\", data_size)\n",
    "\n",
    "\n",
    "unique_classes, class_counts = np.unique(iris_labels, return_counts=True)\n",
    "class_sizes = dict(zip(unique_classes, class_counts))\n",
    "print(\"\\nSizes of different classes:\")\n",
    "for class_label, class_size in class_sizes.items():\n",
    "    print(f\"Class {class_label}: {class_size}\")"
   ]
  },
  {
   "cell_type": "markdown",
   "metadata": {},
   "source": [
    "#### Manually building a prototype based classifier"
   ]
  },
  {
   "cell_type": "markdown",
   "metadata": {},
   "source": [
    "A prototype classifier obtains a very good representative of each class - also called a prototype and uses this for the classification task by computing the distance between a test set and the prototypes of each class. We are going to try and build one using this data.\n",
    "\n",
    "To start this we need to split our data into a training and test set. "
   ]
  },
  {
   "cell_type": "code",
   "execution_count": 10,
   "metadata": {
    "deletable": false,
    "nbgrader": {
     "checksum": "cd4e5ea6caf947d4c2d01f08bc56e871",
     "grade": true,
     "grade_id": "cell-87db5de2af7ebdd0",
     "locked": false,
     "points": 5,
     "schema_version": 1,
     "solution": true
    }
   },
   "outputs": [
    {
     "ename": "ModuleNotFoundError",
     "evalue": "No module named 'sklearn'",
     "output_type": "error",
     "traceback": [
      "\u001b[1;31m---------------------------------------------------------------------------\u001b[0m",
      "\u001b[1;31mModuleNotFoundError\u001b[0m                       Traceback (most recent call last)",
      "Cell \u001b[1;32mIn[10], line 2\u001b[0m\n\u001b[0;32m      1\u001b[0m \u001b[38;5;28;01mimport\u001b[39;00m \u001b[38;5;21;01mnumpy\u001b[39;00m \u001b[38;5;28;01mas\u001b[39;00m \u001b[38;5;21;01mnp\u001b[39;00m\n\u001b[1;32m----> 2\u001b[0m \u001b[38;5;28;01mfrom\u001b[39;00m \u001b[38;5;21;01msklearn\u001b[39;00m\u001b[38;5;21;01m.\u001b[39;00m\u001b[38;5;21;01mmodel_selection\u001b[39;00m \u001b[38;5;28;01mimport\u001b[39;00m train_test_split\n",
      "\u001b[1;31mModuleNotFoundError\u001b[0m: No module named 'sklearn'"
     ]
    }
   ],
   "source": [
    "import numpy as np\n",
    "from sklearn.model_selection import train_test_split\n",
    "\n"
   ]
  },
  {
   "cell_type": "code",
   "execution_count": null,
   "metadata": {
    "deletable": false,
    "nbgrader": {
     "checksum": "0685f9d161eaf24c536587f7b313ebd0",
     "grade": true,
     "grade_id": "cell-d1a12d347ddd519c",
     "locked": false,
     "points": 3,
     "schema_version": 1,
     "solution": true
    }
   },
   "outputs": [],
   "source": [
    "# YOUR CODE HERE\n",
    "raise NotImplementedError()"
   ]
  },
  {
   "cell_type": "markdown",
   "metadata": {},
   "source": [
    "Now we want to get the prototypes. This process can be complicated but for now lets just get the average of each of the data examples representing each class. "
   ]
  },
  {
   "cell_type": "code",
   "execution_count": null,
   "metadata": {
    "deletable": false,
    "nbgrader": {
     "checksum": "b0ceb731669e0f6234413308f484b39b",
     "grade": true,
     "grade_id": "cell-da768715c85fff5e",
     "locked": false,
     "points": 5,
     "schema_version": 1,
     "solution": true
    }
   },
   "outputs": [],
   "source": [
    "# YOUR CODE HERE\n",
    "raise NotImplementedError()"
   ]
  },
  {
   "cell_type": "code",
   "execution_count": null,
   "metadata": {
    "deletable": false,
    "nbgrader": {
     "checksum": "a7955d490d0430899387721bd6f2642b",
     "grade": true,
     "grade_id": "cell-b5036749ed4bcf76",
     "locked": false,
     "points": 3,
     "schema_version": 1,
     "solution": true
    }
   },
   "outputs": [],
   "source": [
    "# YOUR CODE HERE\n",
    "raise NotImplementedError()"
   ]
  },
  {
   "cell_type": "markdown",
   "metadata": {},
   "source": [
    "Now lets see how well your algorithm performs"
   ]
  },
  {
   "cell_type": "code",
   "execution_count": null,
   "metadata": {
    "deletable": false,
    "nbgrader": {
     "checksum": "bdc0d11fb081d718c16b7ee108cd7274",
     "grade": true,
     "grade_id": "cell-55fcc77e8583f3d7",
     "locked": false,
     "points": 3,
     "schema_version": 1,
     "solution": true
    }
   },
   "outputs": [],
   "source": [
    "# YOUR CODE HERE\n",
    "raise NotImplementedError()"
   ]
  },
  {
   "cell_type": "code",
   "execution_count": null,
   "metadata": {
    "deletable": false,
    "nbgrader": {
     "checksum": "a3da3b90246133bca9acaa475563faac",
     "grade": true,
     "grade_id": "cell-b8ca262a964f59e3",
     "locked": false,
     "points": 2,
     "schema_version": 1,
     "solution": true
    }
   },
   "outputs": [],
   "source": [
    "# YOUR CODE HERE\n",
    "raise NotImplementedError()"
   ]
  },
  {
   "cell_type": "markdown",
   "metadata": {},
   "source": [
    "### Part C: Pandas - some data analytics tasks"
   ]
  },
  {
   "cell_type": "markdown",
   "metadata": {},
   "source": [
    "Load the dataset `uganda_produce.csv` using pandas `pandas.read_csv`"
   ]
  },
  {
   "cell_type": "code",
   "execution_count": 1,
   "metadata": {
    "deletable": false,
    "nbgrader": {
     "checksum": "4491a98690fcb1d1f5c07e747be150e1",
     "grade": true,
     "grade_id": "cell-071d8da9c5fe0afe",
     "locked": false,
     "points": 4,
     "schema_version": 1,
     "solution": true
    }
   },
   "outputs": [],
   "source": [
    "import pandas as pd\n",
    "df = pd.read_csv(\"uganda_produce.csv\")"
   ]
  },
  {
   "cell_type": "markdown",
   "metadata": {},
   "source": [
    "**Questions**\n",
    "\n",
    "1. How many unique items are there in the dataset (Hint: you may want to investigate the `unique` method of pandas)\n",
    "3. Of these products [sweet potatoes, beans and cassava] which had the highest yield overall ? What about for the year 2006 alone ?\n",
    "2. Which commodity(item) overall had the highest area harvested ?\n",
    "4. Plot the trend of area harvested for bananas over the years"
   ]
  },
  {
   "cell_type": "code",
   "execution_count": 10,
   "metadata": {
    "deletable": false,
    "nbgrader": {
     "checksum": "2c84efbab0ab2fcc01b1c0ac7c3bf0ac",
     "grade": true,
     "grade_id": "cell-7f2ad888dd4f4214",
     "locked": false,
     "points": 1,
     "schema_version": 1,
     "solution": true
    }
   },
   "outputs": [
    {
     "name": "stdout",
     "output_type": "stream",
     "text": [
      "Unique items across all columns:\n",
      "['Uganda' 'Bananas' 'Area Harvested' ... 92200.0 87100.0 80300.0]\n"
     ]
    }
   ],
   "source": [
    "unique_items_all_columns = df.stack().unique()\n",
    "\n",
    "# Print the unique items across all columns\n",
    "print(\"Unique items across all columns:\")\n",
    "print(unique_items_all_columns)"
   ]
  },
  {
   "cell_type": "code",
   "execution_count": 19,
   "metadata": {
    "deletable": false,
    "nbgrader": {
     "checksum": "fb81eacd538fb29112d0a55d085f3266",
     "grade": true,
     "grade_id": "cell-627284a78066ae4f",
     "locked": false,
     "points": 2,
     "schema_version": 1,
     "solution": true
    }
   },
   "outputs": [
    {
     "name": "stdout",
     "output_type": "stream",
     "text": [
      "  country     item         element Unit                  Date     Value\n",
      "0  Uganda  Bananas  Area Harvested   Ha  1/1/2003 12:00:00 AM  140323.0\n",
      "1  Uganda  Bananas  Area Harvested   Ha  1/1/2004 12:00:00 AM  141083.0\n",
      "2  Uganda  Bananas  Area Harvested   Ha  1/1/2005 12:00:00 AM  141505.0\n",
      "3  Uganda  Bananas  Area Harvested   Ha  1/1/2006 12:00:00 AM  141674.0\n",
      "4  Uganda  Bananas  Area Harvested   Ha  1/1/2007 12:00:00 AM  141758.0\n",
      "Row with the highest production:\n",
      "country                               Uganda\n",
      "item       Fruit excl Melons,Total + (Total)\n",
      "element                  Production Quantity\n",
      "Unit                                  tonnes\n",
      "Date                    1/1/2003 12:00:00 AM\n",
      "Value                             10357475.0\n",
      "Name: 528, dtype: object\n"
     ]
    }
   ],
   "source": [
    "\n",
    "\n",
    "# Display the first few rows of the dataset to understand its structure\n",
    "print(df.head())\n",
    "\n",
    "max_production_row = df.loc[df['Value'].idxmax()]\n",
    "\n",
    "# Print information about the row with the highest production\n",
    "print(\"Row with the highest production:\")\n",
    "print(max_production_row)\n"
   ]
  },
  {
   "cell_type": "code",
   "execution_count": null,
   "metadata": {
    "deletable": false,
    "nbgrader": {
     "checksum": "c1ce58edf6a600c330752e7c91b7589e",
     "grade": true,
     "grade_id": "cell-7d6a7ea4969781d7",
     "locked": false,
     "points": 2,
     "schema_version": 1,
     "solution": true
    }
   },
   "outputs": [],
   "source": [
    "# YOUR CODE HERE\n",
    "raise NotImplementedError()"
   ]
  },
  {
   "cell_type": "code",
   "execution_count": null,
   "metadata": {
    "deletable": false,
    "nbgrader": {
     "checksum": "0ea996b486eda108249230fae43fd498",
     "grade": true,
     "grade_id": "cell-84618533f475324e",
     "locked": false,
     "points": 5,
     "schema_version": 1,
     "solution": true
    }
   },
   "outputs": [],
   "source": [
    "# YOUR CODE HERE\n",
    "raise NotImplementedError()"
   ]
  }
 ],
 "metadata": {
  "kernelspec": {
   "display_name": "Python 3 (ipykernel)",
   "language": "python",
   "name": "python3"
  },
  "language_info": {
   "codemirror_mode": {
    "name": "ipython",
    "version": 3
   },
   "file_extension": ".py",
   "mimetype": "text/x-python",
   "name": "python",
   "nbconvert_exporter": "python",
   "pygments_lexer": "ipython3",
   "version": "3.11.3"
  }
 },
 "nbformat": 4,
 "nbformat_minor": 4
}
